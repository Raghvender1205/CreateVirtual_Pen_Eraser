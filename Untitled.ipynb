{
 "cells": [
  {
   "cell_type": "code",
   "execution_count": null,
   "metadata": {},
   "outputs": [],
   "source": []
  }
 ],
 "metadata": {
  "kernelspec": {
   "display_name": "Python 3.7.7 64-bit ('TensorflowGPU': conda)",
   "language": "python",
   "name": "python37764bittensorflowgpuconda30a67725b7fc4060af60132d61dc7f3b"
  }
 },
 "nbformat": 4,
 "nbformat_minor": 4
}
